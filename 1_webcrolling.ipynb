{
 "cells": [
  {
   "cell_type": "markdown",
   "metadata": {},
   "source": [
    "# 웹 크롤링\n",
    "\n",
    "네이버 영화의 리뷰를 크롤링"
   ]
  },
  {
   "cell_type": "code",
   "execution_count": 22,
   "metadata": {
    "colab": {
     "base_uri": "https://localhost:8080/"
    },
    "id": "h-cXw9t0sfzj",
    "outputId": "b68161b9-3f97-4c2b-efc5-49e2ba502f97"
   },
   "outputs": [],
   "source": [
    "from selenium import webdriver\n",
    "import chromedriver_autoinstaller\n",
    "from tqdm import tqdm\n",
    "from bs4 import BeautifulSoup\n",
    "import pandas as pd\n",
    "import numpy as np\n",
    "\n",
    "chromedriver_autoinstaller.install(cwd=True)\n",
    "driver=webdriver.Chrome()"
   ]
  },
  {
   "cell_type": "code",
   "execution_count": 23,
   "metadata": {},
   "outputs": [],
   "source": [
    "name=[]\n",
    "texx=[]"
   ]
  },
  {
   "cell_type": "code",
   "execution_count": 24,
   "metadata": {
    "colab": {
     "base_uri": "https://localhost:8080/"
    },
    "id": "77Z0FF0dta34",
    "outputId": "c88bab1a-a73b-490c-be74-43d4d97b1503"
   },
   "outputs": [
    {
     "name": "stderr",
     "output_type": "stream",
     "text": [
      "100%|███████████████████████████████████████████| 99/99 [00:55<00:00,  1.77it/s]\n"
     ]
    }
   ],
   "source": [
    "code=10100\n",
    "for i in tqdm(range(10001,code)):\n",
    "    url_movie='https://movie.naver.com/movie/bi/mi/point.naver?code='+str(i)\n",
    "    driver.get(url_movie)\n",
    "    try:\n",
    "        html=driver.page_source\n",
    "        bs=BeautifulSoup(html,'html.parser')\n",
    "        bss=bs.findAll('p', {'class':'tx_report'})\n",
    "        if bss==[]:\n",
    "          pass\n",
    "        else:\n",
    "          name.append(bs.title.text.rstrip(': 네이버 영화'))\n",
    "          texx.append(bss[0].text)\n",
    "          texx.append(bss[1].text)  \n",
    "    except:\n",
    "      pass"
   ]
  },
  {
   "cell_type": "markdown",
   "metadata": {},
   "source": [
    "BeautifulSoup을 이용하여 크롤링한 후, 리뷰 부분을 bss에 저장함.\n",
    "\n",
    "리뷰가 없는 영화는 생략하고, 리뷰가 존재하는 영화에 대해서만 이름은 name에, 리뷰는 texx에 저장함.\n",
    "\n",
    "시간이 오래걸리는 관계로 영화 코드를 10001부터 100개만 적었지만, 실제 프로젝트에서는 220000까지 크롤링 하였음."
   ]
  },
  {
   "cell_type": "code",
   "execution_count": 34,
   "metadata": {},
   "outputs": [
    {
     "data": {
      "text/html": [
       "<div>\n",
       "<style scoped>\n",
       "    .dataframe tbody tr th:only-of-type {\n",
       "        vertical-align: middle;\n",
       "    }\n",
       "\n",
       "    .dataframe tbody tr th {\n",
       "        vertical-align: top;\n",
       "    }\n",
       "\n",
       "    .dataframe thead th {\n",
       "        text-align: right;\n",
       "    }\n",
       "</style>\n",
       "<table border=\"1\" class=\"dataframe\">\n",
       "  <thead>\n",
       "    <tr style=\"text-align: right;\">\n",
       "      <th></th>\n",
       "      <th>movie_name</th>\n",
       "      <th>review_text</th>\n",
       "    </tr>\n",
       "  </thead>\n",
       "  <tbody>\n",
       "    <tr>\n",
       "      <th>0</th>\n",
       "      <td>시네마 천국</td>\n",
       "      <td>고전은 고전이라는 이름으로 유폐될 것이 아니라 수시로 꺼내어질 때 관객의 현실에 적...</td>\n",
       "    </tr>\n",
       "    <tr>\n",
       "      <th>1</th>\n",
       "      <td>빽 투 더 퓨쳐</td>\n",
       "      <td>만약 시나리오 작가 지망생이라면 반드시 한 번쯤은 꼼꼼히 분석해봐야 할 영화. '시...</td>\n",
       "    </tr>\n",
       "    <tr>\n",
       "      <th>2</th>\n",
       "      <td>빽 투 더 퓨쳐 2</td>\n",
       "      <td>요즘 '시간 여행' 영화에선 이 정도의 복잡한 플롯은 보편적이지만, 1989년에 [...</td>\n",
       "    </tr>\n",
       "    <tr>\n",
       "      <th>3</th>\n",
       "      <td>이티</td>\n",
       "      <td>29년전 만들어진 [이티]는 지금부터 29년 후, 그로부터 29년 후에도 볼만한 영...</td>\n",
       "    </tr>\n",
       "    <tr>\n",
       "      <th>4</th>\n",
       "      <td>죽은 시인의 사회</td>\n",
       "      <td>교실 창문이 마냥 답답해 보이기만 했던 그때 그 시절의 인생 영화. 서른이 훌쩍 넘...</td>\n",
       "    </tr>\n",
       "    <tr>\n",
       "      <th>5</th>\n",
       "      <td>벤허</td>\n",
       "      <td>20세기 최고의 종교영화'로 수식되며 기독교적 주제의식을 십분 반영하고 있지만, [...</td>\n",
       "    </tr>\n",
       "    <tr>\n",
       "      <th>6</th>\n",
       "      <td>대부</td>\n",
       "      <td>새삼 이 영화에 평점을 매기는 일은 우스운 노릇이다. [대부]는 여전히 잘 짜인 서...</td>\n",
       "    </tr>\n",
       "    <tr>\n",
       "      <th>7</th>\n",
       "      <td>대부 2</td>\n",
       "      <td>[대부] 시리즈는 그로 인해, 영화사의 한 지점을 그 이전과 이후로 나누는 기념비적...</td>\n",
       "    </tr>\n",
       "  </tbody>\n",
       "</table>\n",
       "</div>"
      ],
      "text/plain": [
       "   movie_name                                        review_text\n",
       "0      시네마 천국  고전은 고전이라는 이름으로 유폐될 것이 아니라 수시로 꺼내어질 때 관객의 현실에 적...\n",
       "1    빽 투 더 퓨쳐  만약 시나리오 작가 지망생이라면 반드시 한 번쯤은 꼼꼼히 분석해봐야 할 영화. '시...\n",
       "2  빽 투 더 퓨쳐 2  요즘 '시간 여행' 영화에선 이 정도의 복잡한 플롯은 보편적이지만, 1989년에 [...\n",
       "3          이티  29년전 만들어진 [이티]는 지금부터 29년 후, 그로부터 29년 후에도 볼만한 영...\n",
       "4   죽은 시인의 사회  교실 창문이 마냥 답답해 보이기만 했던 그때 그 시절의 인생 영화. 서른이 훌쩍 넘...\n",
       "5          벤허  20세기 최고의 종교영화'로 수식되며 기독교적 주제의식을 십분 반영하고 있지만, [...\n",
       "6          대부  새삼 이 영화에 평점을 매기는 일은 우스운 노릇이다. [대부]는 여전히 잘 짜인 서...\n",
       "7        대부 2  [대부] 시리즈는 그로 인해, 영화사의 한 지점을 그 이전과 이후로 나누는 기념비적..."
      ]
     },
     "execution_count": 34,
     "metadata": {},
     "output_type": "execute_result"
    }
   ],
   "source": [
    "movie=pd.DataFrame(columns=['movie_name','review_text'])\n",
    "movie.movie_name=name\n",
    "movie.review_text=texx\n",
    "movie"
   ]
  },
  {
   "cell_type": "markdown",
   "metadata": {},
   "source": [
    "데이터 프레임으로 만들어 movie에 할당하고 이를 csv파일로 저장함."
   ]
  },
  {
   "cell_type": "code",
   "execution_count": 35,
   "metadata": {},
   "outputs": [],
   "source": [
    "movie.to_csv('mv.csv', encoding='utf-8-sig',index=False, header=False)"
   ]
  }
 ],
 "metadata": {
  "colab": {
   "collapsed_sections": [],
   "name": "Untitled2.ipynb",
   "provenance": []
  },
  "kernelspec": {
   "display_name": "Python 3 (ipykernel)",
   "language": "python",
   "name": "python3"
  },
  "language_info": {
   "codemirror_mode": {
    "name": "ipython",
    "version": 3
   },
   "file_extension": ".py",
   "mimetype": "text/x-python",
   "name": "python",
   "nbconvert_exporter": "python",
   "pygments_lexer": "ipython3",
   "version": "3.9.7"
  }
 },
 "nbformat": 4,
 "nbformat_minor": 1
}
