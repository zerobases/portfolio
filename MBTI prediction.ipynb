{
 "cells": [
  {
   "cell_type": "markdown",
   "metadata": {},
   "source": [
    "# MBTI PREDICTION"
   ]
  },
  {
   "cell_type": "code",
   "execution_count": 1,
   "metadata": {
    "id": "jYGQ7KMYotHV"
   },
   "outputs": [],
   "source": [
    "import pandas as pd\n",
    "import numpy as np\n",
    "from tqdm import tqdm\n",
    "import re\n",
    "\n",
    "from sklearn.model_selection import train_test_split\n",
    "from nltk.stem.porter import PorterStemmer\n",
    "from sklearn.feature_extraction.text import TfidfVectorizer\n",
    "from sklearn.metrics import accuracy_score\n",
    "from sklearn.pipeline import Pipeline\n",
    "\n",
    "from sklearn.ensemble import RandomForestClassifier\n",
    "from sklearn.linear_model import LogisticRegression\n",
    "from sklearn.neighbors import KNeighborsClassifier as KNN\n",
    "from sklearn.linear_model import RidgeClassifier\n",
    "from sklearn.svm import LinearSVC\n",
    "\n",
    "from sklearn.model_selection import GridSearchCV"
   ]
  },
  {
   "cell_type": "code",
   "execution_count": 2,
   "metadata": {
    "id": "vWY7YQxvt-Aa"
   },
   "outputs": [],
   "source": [
    "#데이터 불러오기\n",
    "df = pd.read_csv('MBTI_train.csv',header=None)\n",
    "test = pd.read_csv('MBTI_test.csv',header=None)"
   ]
  },
  {
   "cell_type": "markdown",
   "metadata": {},
   "source": [
    "# 데이터 전처리"
   ]
  },
  {
   "cell_type": "code",
   "execution_count": 3,
   "metadata": {
    "colab": {
     "base_uri": "https://localhost:8080/",
     "height": 206
    },
    "executionInfo": {
     "elapsed": 14,
     "status": "ok",
     "timestamp": 1645724451856,
     "user": {
      "displayName": "김시현",
      "photoUrl": "https://lh3.googleusercontent.com/a-/AOh14GjEIvYLMlHyo-3zuRlLRY0-ISvLr0zVLnnD_3d2=s64",
      "userId": "14975975597857418025"
     },
     "user_tz": -540
    },
    "id": "Cj_69rO64v84",
    "outputId": "9e586947-af3a-44a0-fc02-b345d1423807"
   },
   "outputs": [
    {
     "data": {
      "text/html": [
       "<div>\n",
       "<style scoped>\n",
       "    .dataframe tbody tr th:only-of-type {\n",
       "        vertical-align: middle;\n",
       "    }\n",
       "\n",
       "    .dataframe tbody tr th {\n",
       "        vertical-align: top;\n",
       "    }\n",
       "\n",
       "    .dataframe thead th {\n",
       "        text-align: right;\n",
       "    }\n",
       "</style>\n",
       "<table border=\"1\" class=\"dataframe\">\n",
       "  <thead>\n",
       "    <tr style=\"text-align: right;\">\n",
       "      <th></th>\n",
       "      <th>0</th>\n",
       "      <th>1</th>\n",
       "    </tr>\n",
       "  </thead>\n",
       "  <tbody>\n",
       "    <tr>\n",
       "      <th>0</th>\n",
       "      <td>INTP</td>\n",
       "      <td>say process model list like subscriber channel...</td>\n",
       "    </tr>\n",
       "    <tr>\n",
       "      <th>1</th>\n",
       "      <td>INFJ</td>\n",
       "      <td>upon much manipulate retail finish like sacrif...</td>\n",
       "    </tr>\n",
       "    <tr>\n",
       "      <th>2</th>\n",
       "      <td>INFJ</td>\n",
       "      <td>fit yes certain bff social feel goal go know n...</td>\n",
       "    </tr>\n",
       "    <tr>\n",
       "      <th>3</th>\n",
       "      <td>INTJ</td>\n",
       "      <td>complete love within someone ideal joke solvea...</td>\n",
       "    </tr>\n",
       "    <tr>\n",
       "      <th>4</th>\n",
       "      <td>ENTJ</td>\n",
       "      <td>public strictly thing person x question person...</td>\n",
       "    </tr>\n",
       "  </tbody>\n",
       "</table>\n",
       "</div>"
      ],
      "text/plain": [
       "      0                                                  1\n",
       "0  INTP  say process model list like subscriber channel...\n",
       "1  INFJ  upon much manipulate retail finish like sacrif...\n",
       "2  INFJ  fit yes certain bff social feel goal go know n...\n",
       "3  INTJ  complete love within someone ideal joke solvea...\n",
       "4  ENTJ  public strictly thing person x question person..."
      ]
     },
     "execution_count": 3,
     "metadata": {},
     "output_type": "execute_result"
    }
   ],
   "source": [
    "df.head()"
   ]
  },
  {
   "cell_type": "code",
   "execution_count": 4,
   "metadata": {
    "id": "T325fa5Y1IFP"
   },
   "outputs": [],
   "source": [
    "# 열이름 지정\n",
    "df.columns=['type','text']\n",
    "test.columns=['text']"
   ]
  },
  {
   "cell_type": "code",
   "execution_count": 5,
   "metadata": {},
   "outputs": [
    {
     "data": {
      "text/html": [
       "<div>\n",
       "<style scoped>\n",
       "    .dataframe tbody tr th:only-of-type {\n",
       "        vertical-align: middle;\n",
       "    }\n",
       "\n",
       "    .dataframe tbody tr th {\n",
       "        vertical-align: top;\n",
       "    }\n",
       "\n",
       "    .dataframe thead th {\n",
       "        text-align: right;\n",
       "    }\n",
       "</style>\n",
       "<table border=\"1\" class=\"dataframe\">\n",
       "  <thead>\n",
       "    <tr style=\"text-align: right;\">\n",
       "      <th></th>\n",
       "      <th>type</th>\n",
       "      <th>text</th>\n",
       "    </tr>\n",
       "  </thead>\n",
       "  <tbody>\n",
       "    <tr>\n",
       "      <th>0</th>\n",
       "      <td>INTP</td>\n",
       "      <td>say process model list like subscriber channel...</td>\n",
       "    </tr>\n",
       "    <tr>\n",
       "      <th>1</th>\n",
       "      <td>INFJ</td>\n",
       "      <td>upon much manipulate retail finish like sacrif...</td>\n",
       "    </tr>\n",
       "    <tr>\n",
       "      <th>2</th>\n",
       "      <td>INFJ</td>\n",
       "      <td>fit yes certain bff social feel goal go know n...</td>\n",
       "    </tr>\n",
       "    <tr>\n",
       "      <th>3</th>\n",
       "      <td>INTJ</td>\n",
       "      <td>complete love within someone ideal joke solvea...</td>\n",
       "    </tr>\n",
       "    <tr>\n",
       "      <th>4</th>\n",
       "      <td>ENTJ</td>\n",
       "      <td>public strictly thing person x question person...</td>\n",
       "    </tr>\n",
       "  </tbody>\n",
       "</table>\n",
       "</div>"
      ],
      "text/plain": [
       "   type                                               text\n",
       "0  INTP  say process model list like subscriber channel...\n",
       "1  INFJ  upon much manipulate retail finish like sacrif...\n",
       "2  INFJ  fit yes certain bff social feel goal go know n...\n",
       "3  INTJ  complete love within someone ideal joke solvea...\n",
       "4  ENTJ  public strictly thing person x question person..."
      ]
     },
     "execution_count": 5,
     "metadata": {},
     "output_type": "execute_result"
    }
   ],
   "source": [
    "df.head()"
   ]
  },
  {
   "cell_type": "markdown",
   "metadata": {},
   "source": [
    "### 데이터 확인\n",
    "\n",
    "결측값 확인 및 데이터 개수 확인하여 전처리 진행"
   ]
  },
  {
   "cell_type": "code",
   "execution_count": 6,
   "metadata": {},
   "outputs": [
    {
     "data": {
      "text/plain": [
       "((74357, 2), (9337, 1))"
      ]
     },
     "execution_count": 6,
     "metadata": {},
     "output_type": "execute_result"
    }
   ],
   "source": [
    "#데이터 개수 확인\n",
    "df.shape, test.shape"
   ]
  },
  {
   "cell_type": "markdown",
   "metadata": {},
   "source": [
    "train 데이터의 개수는 74357개, test 데이터의 개수는 9337개가 존재함."
   ]
  },
  {
   "cell_type": "code",
   "execution_count": 7,
   "metadata": {},
   "outputs": [
    {
     "data": {
      "text/plain": [
       "0"
      ]
     },
     "execution_count": 7,
     "metadata": {},
     "output_type": "execute_result"
    }
   ],
   "source": [
    "#결측값 확인\n",
    "df.text.isnull().sum()"
   ]
  },
  {
   "cell_type": "markdown",
   "metadata": {},
   "source": [
    "결측값이 없는 것으로 확인됨."
   ]
  },
  {
   "cell_type": "code",
   "execution_count": 8,
   "metadata": {},
   "outputs": [
    {
     "data": {
      "text/plain": [
       "INTP    17690\n",
       "INTJ    16079\n",
       "INFJ    10765\n",
       "INFP     8444\n",
       "ENTP     8303\n",
       "ENFP     4338\n",
       "ISTP     2394\n",
       "ENTJ     2106\n",
       "ENFJ     1024\n",
       "ISTJ      878\n",
       "ESTP      814\n",
       "ISFP      620\n",
       "ISFJ      460\n",
       "ESFP      252\n",
       "ESFJ      119\n",
       "ESTJ       71\n",
       "Name: type, dtype: int64"
      ]
     },
     "execution_count": 8,
     "metadata": {},
     "output_type": "execute_result"
    }
   ],
   "source": [
    "#MBTI별 데이터 개수\n",
    "df['type'].value_counts()"
   ]
  },
  {
   "cell_type": "code",
   "execution_count": 9,
   "metadata": {},
   "outputs": [
    {
     "data": {
      "text/plain": [
       "<AxesSubplot:>"
      ]
     },
     "execution_count": 9,
     "metadata": {},
     "output_type": "execute_result"
    },
    {
     "data": {
      "image/png": "[encoded data removed]",
      "text/plain": [
       "<Figure size 432x288 with 1 Axes>"
      ]
     },
     "metadata": {
      "needs_background": "light"
     },
     "output_type": "display_data"
    }
   ],
   "source": [
    "df['type'].value_counts().plot(kind='bar')"
   ]
  },
  {
   "cell_type": "code",
   "execution_count": 10,
   "metadata": {},
   "outputs": [],
   "source": [
    "#정확도 계산 함수 생성\n",
    "def accur(y, pred) :\n",
    "    accuracy = accuracy_score(y, pred)*100\n",
    "    print(f'정확도:{accuracy:.3f}')"
   ]
  },
  {
   "cell_type": "code",
   "execution_count": 11,
   "metadata": {},
   "outputs": [],
   "source": [
    "#train 데이터에서 text부분과 mbti부분으로 구분\n",
    "X=df['text']\n",
    "y=df['type']"
   ]
  },
  {
   "cell_type": "markdown",
   "metadata": {},
   "source": [
    "### 텍스트 전처리"
   ]
  },
  {
   "cell_type": "code",
   "execution_count": 12,
   "metadata": {},
   "outputs": [
    {
     "data": {
      "text/plain": [
       "'say process model list like subscriber channel region act position since without hear resus help study sense external specialize movement dude thousand yes even get essential part road involve expressiveness like factor never probably le non think dedicate medium task take brain oh architectural would diagnose technology college precisely fi understand dominant dom security run make hard tribe lot stop opinion bad washinon solely best extremely sound since patreon back differently mean differ cia high discrimination make two si holistic though passage would make director continue else task enigma question yet whatever field probably mean part arbitrary hedonism ask post find broaden matter read lot sql essential cuure start language think month demand intp plz like like without exam help get system something einstein though would stream create personal sort relative would k would language k man flat example without typically learn read still teach problem split function mean long mental arbitrary glean step sound norm u win question cuures mean genius lenh would work podcast chimpanzee like resist equality glad genius colleague lenh need memory go use u several need world road ask start make intelligence ba either factor end necessarily fail mean min desire try animal incitement think great mean big heah movement master sentence money take mean pretty life well wise intp immigrate channel space yep twice road young essay merge le get hundred pretty help know far add assignment demand people intestinal get opinion learn whatever much equip feel life region unordered raw current specie speed point write need oh extract mean business center important see even perceive desire confuse sry slant enough view know become improve level genuinely time work make also let stop way man care like personal opportunity ability survive ah insensitive help nowhere caption many environment basically analytical word jump good learn landscape process electronic guy moma le much get respond worldwide quality game intp nature example try deaf notice much repetitive matter possibility k something road get school npr round last make need monkey write say masturbation around avoid think figure society could key human describe environment genre test first brain two plateau information story content also intp feel think good brain get arbitrary education monkey fortitude cognition cohesive capable equally due comment report help overall channel grip lack chance video read podcast still towards average improve comment opposite heah distill also judgemental make develop partially intuition grade hear high sentence'"
      ]
     },
     "execution_count": 12,
     "metadata": {},
     "output_type": "execute_result"
    }
   ],
   "source": [
    "X[0]"
   ]
  },
  {
   "cell_type": "markdown",
   "metadata": {},
   "source": [
    "첫 번째 데이터를 확인해보면, 어간이 추출 되어 있다.\n",
    "또한, fi, k, u 와 같이 길이가 짧은 단어는 큰 의미를 담고 있지 않는 것으로 보여 사전에 제거를 함."
   ]
  },
  {
   "cell_type": "markdown",
   "metadata": {},
   "source": [
    "### 짧은 단어 정리"
   ]
  },
  {
   "cell_type": "markdown",
   "metadata": {},
   "source": [
    "정규표현식을 활용하여 길이가 1~2인 단어는 제거"
   ]
  },
  {
   "cell_type": "code",
   "execution_count": 13,
   "metadata": {},
   "outputs": [
    {
     "name": "stderr",
     "output_type": "stream",
     "text": [
      "100%|████████████████████████████████████| 74357/74357 [02:28<00:00, 499.38it/s]\n"
     ]
    }
   ],
   "source": [
    "#길이가 1~2인 단어 정리\n",
    "shortword = re.compile(r'\\W*\\b\\w{1,2}\\b')\n",
    "for i in tqdm(range(len(X))):\n",
    "    X[i]=shortword.sub('', X[i])"
   ]
  },
  {
   "cell_type": "code",
   "execution_count": 14,
   "metadata": {},
   "outputs": [
    {
     "name": "stderr",
     "output_type": "stream",
     "text": [
      "100%|██████████████████████████████████| 74357/74357 [00:02<00:00, 28169.75it/s]\n"
     ]
    },
    {
     "data": {
      "text/plain": [
       "387.33969901959466"
      ]
     },
     "execution_count": 14,
     "metadata": {},
     "output_type": "execute_result"
    }
   ],
   "source": [
    "c=[]\n",
    "for i in tqdm(range(len(X))):\n",
    "    a=len(X[i].split(' '))\n",
    "    c.append(a)\n",
    "\n",
    "sum(c)/len(X)"
   ]
  },
  {
   "cell_type": "markdown",
   "metadata": {},
   "source": [
    "데이터의 개수가 400개에서 평균 387개로 줄어든 것을 확인할 수 있음."
   ]
  },
  {
   "cell_type": "markdown",
   "metadata": {},
   "source": [
    "### stemming"
   ]
  },
  {
   "cell_type": "code",
   "execution_count": 15,
   "metadata": {},
   "outputs": [
    {
     "name": "stderr",
     "output_type": "stream",
     "text": [
      "100%|███████████████████████████████████| 74357/74357 [00:52<00:00, 1411.99it/s]\n"
     ]
    }
   ],
   "source": [
    "X_stem=X.copy()\n",
    "stem = PorterStemmer()\n",
    "for i in tqdm(range(len(X))):\n",
    "    X_stem[i]=stem.stem(X[i])"
   ]
  },
  {
   "cell_type": "markdown",
   "metadata": {},
   "source": [
    "어간이 어느정도 추출되어있는 것으로 보이나, X_stem으로 stemming한 text를 저장하여 추후에 정확도를 비교해보기로 함."
   ]
  },
  {
   "cell_type": "markdown",
   "metadata": {},
   "source": [
    "# train 데이터 나누기"
   ]
  },
  {
   "cell_type": "markdown",
   "metadata": {},
   "source": [
    "모수를 설정하는 데 사용하기 위하여 train 데이터를 train data와 valid data로 cross validation을 진행하고자 함."
   ]
  },
  {
   "cell_type": "code",
   "execution_count": 16,
   "metadata": {},
   "outputs": [
    {
     "data": {
      "text/plain": [
       "(59485, 14872)"
      ]
     },
     "execution_count": 16,
     "metadata": {},
     "output_type": "execute_result"
    }
   ],
   "source": [
    "X_train, X_valid, y_train, y_valid =train_test_split(X,y, test_size=0.2)\n",
    "len(X_train),len(X_valid)"
   ]
  },
  {
   "cell_type": "markdown",
   "metadata": {},
   "source": [
    "0.2의 비율로 나누어 74357개의 데이터를 (59485, 14872)개로 나눔"
   ]
  },
  {
   "cell_type": "markdown",
   "metadata": {},
   "source": [
    "# 단어 임베딩"
   ]
  },
  {
   "cell_type": "markdown",
   "metadata": {},
   "source": [
    "- Tf: 하나의 문서에서 특정 단어가 등장하는 빈도 (단어의 빈도수 반영)\n",
    "\n",
    "- Idf: 특정 단어가 몇 개의 text에서 등장하는 횟수의 역수 (단어의 특이성 반영)\n",
    "\n",
    "Tf*IDF인 TF-IDF를 이용하여 text 데이터를 수치로 표현함"
   ]
  },
  {
   "cell_type": "code",
   "execution_count": 17,
   "metadata": {},
   "outputs": [],
   "source": [
    "tf=TfidfVectorizer()\n",
    "X_train_tfidf=tf.fit_transform(X_train)\n",
    "X_valid_tfidf=tf.transform(X_valid)"
   ]
  },
  {
   "cell_type": "code",
   "execution_count": 18,
   "metadata": {},
   "outputs": [
    {
     "data": {
      "text/plain": [
       "((59485, 152127), (14872, 152127))"
      ]
     },
     "execution_count": 18,
     "metadata": {},
     "output_type": "execute_result"
    }
   ],
   "source": [
    "X_train_tfidf.shape, X_valid_tfidf.shape"
   ]
  },
  {
   "cell_type": "markdown",
   "metadata": {},
   "source": [
    "# 모델 선정"
   ]
  },
  {
   "cell_type": "markdown",
   "metadata": {},
   "source": [
    "분류 모델 중 LogisticRegression, LinearSVC, RandomForestClassifier, KNN, RidgeClassifier 을 이용하여 정확도를 계산함."
   ]
  },
  {
   "cell_type": "code",
   "execution_count": 19,
   "metadata": {},
   "outputs": [],
   "source": [
    "clf1=LogisticRegression()\n",
    "clf2=LinearSVC()\n",
    "clf3=RandomForestClassifier()\n",
    "clf4=KNN()\n",
    "clf5=RidgeClassifier()"
   ]
  },
  {
   "cell_type": "code",
   "execution_count": 20,
   "metadata": {},
   "outputs": [
    {
     "name": "stderr",
     "output_type": "stream",
     "text": [
      "/opt/anaconda3/lib/python3.9/site-packages/sklearn/linear_model/_logistic.py:763: ConvergenceWarning: lbfgs failed to converge (status=1):\n",
      "STOP: TOTAL NO. of ITERATIONS REACHED LIMIT.\n",
      "\n",
      "Increase the number of iterations (max_iter) or scale the data as shown in:\n",
      "    https://scikit-learn.org/stable/modules/preprocessing.html\n",
      "Please also refer to the documentation for alternative solver options:\n",
      "    https://scikit-learn.org/stable/modules/linear_model.html#logistic-regression\n",
      "  n_iter_i = _check_optimize_result(\n"
     ]
    }
   ],
   "source": [
    "clf1.fit(X_train_tfidf, y_train)\n",
    "clf2.fit(X_train_tfidf, y_train)\n",
    "clf3.fit(X_train_tfidf, y_train)\n",
    "clf4.fit(X_train_tfidf, y_train)\n",
    "clf5.fit(X_train_tfidf, y_train)\n",
    "\n",
    "clf1_pred=clf1.predict(X_valid_tfidf)\n",
    "clf2_pred=clf2.predict(X_valid_tfidf)\n",
    "clf3_pred=clf3.predict(X_valid_tfidf)\n",
    "clf4_pred=clf4.predict(X_valid_tfidf)\n",
    "clf5_pred=clf5.predict(X_valid_tfidf)"
   ]
  },
  {
   "cell_type": "code",
   "execution_count": 21,
   "metadata": {},
   "outputs": [
    {
     "name": "stdout",
     "output_type": "stream",
     "text": [
      "정확도:78.604\n",
      "정확도:79.216\n",
      "정확도:46.947\n",
      "정확도:39.060\n",
      "정확도:77.925\n"
     ]
    }
   ],
   "source": [
    "accur(y_valid, clf1_pred)\n",
    "accur(y_valid, clf2_pred)\n",
    "accur(y_valid, clf3_pred)\n",
    "accur(y_valid, clf4_pred)\n",
    "accur(y_valid, clf5_pred)"
   ]
  },
  {
   "cell_type": "markdown",
   "metadata": {},
   "source": [
    "LinearSVC, LogisticRegression, RidgeClassifier 순으로 정확도가 높으므로, LinearSVC를 사용하기로 함."
   ]
  },
  {
   "cell_type": "markdown",
   "metadata": {},
   "source": [
    "### 파이프라인 구축"
   ]
  },
  {
   "cell_type": "code",
   "execution_count": 22,
   "metadata": {},
   "outputs": [
    {
     "name": "stdout",
     "output_type": "stream",
     "text": [
      "정확도:78.436\n"
     ]
    }
   ],
   "source": [
    "X_train, X_valid, y_train, y_valid =train_test_split(X,y, test_size=0.2,random_state=42)\n",
    "\n",
    "text_clf=Pipeline([('tfidf',TfidfVectorizer()),('clf',LinearSVC(random_state=42))])\n",
    "text_clf.fit(X_train,y_train)\n",
    "pred=text_clf.predict(X_valid)\n",
    "accur(y_valid, pred)"
   ]
  },
  {
   "cell_type": "code",
   "execution_count": 23,
   "metadata": {},
   "outputs": [
    {
     "name": "stdout",
     "output_type": "stream",
     "text": [
      "정확도:78.389\n"
     ]
    }
   ],
   "source": [
    "#위에서 정리한 X_stem의 정확도 확인\n",
    "X_train_stem, X_valid_stem, y_train_stem, y_valid_stem=train_test_split(X_stem,y, test_size=0.2, random_state=42)\n",
    "\n",
    "text_clf_stem=Pipeline([('tfidf',TfidfVectorizer()),('clf',LinearSVC(random_state=42))])\n",
    "text_clf_stem.fit(X_train_stem,y_train_stem)\n",
    "pred_stem=text_clf_stem.predict(X_valid_stem)\n",
    "accur(y_valid_stem, pred_stem)"
   ]
  },
  {
   "cell_type": "markdown",
   "metadata": {},
   "source": [
    "원 데이터와 비교하여 X_stem 데이터의 정확도가 더 낮으므로 stemming 효과 없음"
   ]
  },
  {
   "cell_type": "markdown",
   "metadata": {},
   "source": [
    "### 하이퍼 파라미터 튜닝"
   ]
  },
  {
   "cell_type": "markdown",
   "metadata": {},
   "source": [
    "규제의 강도를 설정하는 C를 조절하여 하이퍼 파라미터를 설정함.\n",
    " - C 값이 작으면 잘못 분류되는 데이터가 있더라도 마진을 최대로 함.\n",
    " - C 값이 크면 마진이 작아지더라도 잘못 분류되는 데이터가 적어지도록 함."
   ]
  },
  {
   "cell_type": "code",
   "execution_count": 24,
   "metadata": {},
   "outputs": [
    {
     "name": "stdout",
     "output_type": "stream",
     "text": [
      "0.3\n"
     ]
    }
   ],
   "source": [
    "#정확도 기준\n",
    "clf=LinearSVC()\n",
    "cv=GridSearchCV(clf, {'C':[0.1,0.2,0.3,0.5,1.0]}, scoring='accuracy')\n",
    "\n",
    "text_clf=Pipeline([('tfidf',TfidfVectorizer()),('clf',cv)])\n",
    "text_clf.fit(X_train,y_train)\n",
    "\n",
    "print(cv.best_estimator_.C)"
   ]
  },
  {
   "cell_type": "markdown",
   "metadata": {},
   "source": [
    "C=0.3이 최적의 파라미터 이므로 0.3으로 설정하여 모델링 함."
   ]
  },
  {
   "cell_type": "code",
   "execution_count": 25,
   "metadata": {},
   "outputs": [
    {
     "name": "stdout",
     "output_type": "stream",
     "text": [
      "정확도:79.061\n"
     ]
    }
   ],
   "source": [
    "text_clf=Pipeline([('tfidf',TfidfVectorizer()),('clf',LinearSVC(C=0.3, random_state=42))])\n",
    "text_clf.fit(X_train,y_train)\n",
    "pred=text_clf.predict(X_valid)\n",
    "accur(y_valid, pred)"
   ]
  },
  {
   "cell_type": "markdown",
   "metadata": {},
   "source": [
    "0.3으로 했을 때 정확도가 소폭 상승한 것을 확인할 수 있다."
   ]
  },
  {
   "cell_type": "markdown",
   "metadata": {},
   "source": [
    "> **IDEA**"
   ]
  },
  {
   "cell_type": "markdown",
   "metadata": {},
   "source": [
    "MBTI는 4개의 지표가 독립적으로 이루어진 것이기에 각각의 문자를 모델링 하면 더 정확도가 오를 것이라 생각함."
   ]
  },
  {
   "cell_type": "code",
   "execution_count": 44,
   "metadata": {},
   "outputs": [
    {
     "name": "stdout",
     "output_type": "stream",
     "text": [
      "0.4\n",
      "0.5\n",
      "0.2\n",
      "0.2\n"
     ]
    }
   ],
   "source": [
    "clf=LinearSVC()\n",
    "cv=GridSearchCV(clf, {'C':[0.1,0.2,0.3,0.4,0.5]}, scoring='accuracy')\n",
    "\n",
    "for i in range(4):\n",
    "    text_clf_each=Pipeline([('tfidf',TfidfVectorizer()),('clf',cv)])\n",
    "    text_clf_each.fit(X_train,y_train.str[i])\n",
    "    print(cv.best_estimator_.C)"
   ]
  },
  {
   "cell_type": "markdown",
   "metadata": {},
   "source": [
    "각 지표별로 최적의 C값을 찾았을 때 0.4, 0.5, 0.2, 0.2 로 나옴"
   ]
  },
  {
   "cell_type": "code",
   "execution_count": 46,
   "metadata": {},
   "outputs": [],
   "source": [
    "#i/e\n",
    "text_clf0=Pipeline([('tfidf',TfidfVectorizer()),('clf',LinearSVC(C=0.4, random_state=42))])\n",
    "text_clf0.fit(X_train,y_train.str[0])\n",
    "pred0=text_clf0.predict(X_valid)\n",
    "\n",
    "#s/n\n",
    "text_clf1=Pipeline([('tfidf',TfidfVectorizer()),('clf',LinearSVC(C=0.5, random_state=42))])\n",
    "text_clf1.fit(X_train,y_train.str[1])\n",
    "pred1=text_clf1.predict(X_valid)\n",
    "\n",
    "#t/f\n",
    "text_clf2=Pipeline([('tfidf',TfidfVectorizer()),('clf',LinearSVC(C=0.2, random_state=42))])\n",
    "text_clf2.fit(X_train,y_train.str[2])\n",
    "pred2=text_clf2.predict(X_valid)\n",
    "\n",
    "#p/j\n",
    "text_clf2.fit(X_train,y_train.str[3])\n",
    "pred3=text_clf2.predict(X_valid)"
   ]
  },
  {
   "cell_type": "code",
   "execution_count": 47,
   "metadata": {},
   "outputs": [
    {
     "name": "stdout",
     "output_type": "stream",
     "text": [
      "정확도:89.329\n",
      "정확도:95.636\n",
      "정확도:91.588\n",
      "정확도:84.649\n"
     ]
    }
   ],
   "source": [
    "accur(y_valid.str[0], pred0)\n",
    "accur(y_valid.str[1], pred1)\n",
    "accur(y_valid.str[2], pred2)\n",
    "accur(y_valid.str[3], pred3)"
   ]
  },
  {
   "cell_type": "code",
   "execution_count": 29,
   "metadata": {},
   "outputs": [
    {
     "name": "stdout",
     "output_type": "stream",
     "text": [
      "정확도:92.113\n",
      "정확도:96.147\n",
      "정확도:91.608\n",
      "정확도:87.702\n"
     ]
    }
   ],
   "source": [
    "accur(y_valid.str[0], pd.DataFrame(pred)[0].str[0])\n",
    "accur(y_valid.str[1], pd.DataFrame(pred)[0].str[1])\n",
    "accur(y_valid.str[2], pd.DataFrame(pred)[0].str[2])\n",
    "accur(y_valid.str[3], pd.DataFrame(pred)[0].str[3])"
   ]
  },
  {
   "cell_type": "markdown",
   "metadata": {},
   "source": [
    "원래 모델의 각 성분과 비교하여도 정확도가 낮으므로 각각으로 고려하는 것 보다는 전체 MBTI를 데이터로 다루는 것이 더 효율적임.\n",
    "\n",
    "각 성분간에 상호작용이 있어서 MBTI별 특징이 생기는 것으로 판단함."
   ]
  },
  {
   "cell_type": "markdown",
   "metadata": {},
   "source": [
    "# predict"
   ]
  },
  {
   "cell_type": "markdown",
   "metadata": {},
   "source": [
    "최종적으로, test 데이터를 예측함."
   ]
  },
  {
   "cell_type": "code",
   "execution_count": 53,
   "metadata": {},
   "outputs": [],
   "source": [
    "test_data=test['text']\n",
    "for i in tqdm(range(len(test_data))):\n",
    "    test_data[i]=shortword.sub('', test_data[i])\n",
    "prediction=text_clf.predict(test_data['text'])"
   ]
  },
  {
   "cell_type": "code",
   "execution_count": 56,
   "metadata": {},
   "outputs": [
    {
     "data": {
      "text/plain": [
       "array(['ENFP', 'ENTP', 'INTJ', ..., 'INTP', 'ENFP', 'INFP'], dtype=object)"
      ]
     },
     "execution_count": 56,
     "metadata": {},
     "output_type": "execute_result"
    }
   ],
   "source": [
    "prediction"
   ]
  }
 ],
 "metadata": {
  "accelerator": "GPU",
  "colab": {
   "collapsed_sections": [],
   "name": "logistic100.ipynb",
   "provenance": []
  },
  "kernelspec": {
   "display_name": "Python 3 (ipykernel)",
   "language": "python",
   "name": "python3"
  },
  "language_info": {
   "codemirror_mode": {
    "name": "ipython",
    "version": 3
   },
   "file_extension": ".py",
   "mimetype": "text/x-python",
   "name": "python",
   "nbconvert_exporter": "python",
   "pygments_lexer": "ipython3",
   "version": "3.9.7"
  }
 },
 "nbformat": 4,
 "nbformat_minor": 1
}
