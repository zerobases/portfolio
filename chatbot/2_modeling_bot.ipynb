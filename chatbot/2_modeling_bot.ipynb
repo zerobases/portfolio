{
 "cells": [
  {
   "cell_type": "code",
   "execution_count": 3,
   "id": "3d990991",
   "metadata": {},
   "outputs": [
    {
     "name": "stderr",
     "output_type": "stream",
     "text": [
      "2022-12-06 23:52:12.265 INFO    dotenv.main: Python-dotenv could not find configuration file .env.\n"
     ]
    }
   ],
   "source": [
    "import pandas as pd\n",
    "import numpy as np\n",
    "import os\n",
    "import sklearn\n",
    "from sklearn.feature_extraction.text import TfidfVectorizer\n",
    "from sklearn.metrics.pairwise import cosine_similarity\n",
    "import random\n",
    "import streamlit as st\n",
    "from streamlit_chat import message\n",
    "import sys\n",
    "from PyQt5.QtWidgets import QApplication\n",
    "from telepot.loop import MessageLoop\n",
    "from dotenv import load_dotenv\n",
    "import telepot\n",
    "load_dotenv(verbose=True)\n",
    "import json\n",
    "from konlpy.tag import Okt\n",
    "okt=Okt()\n",
    "\n",
    "bot_number'       '"
   ]
  },
  {
   "cell_type": "markdown",
   "id": "dca4f8ab",
   "metadata": {},
   "source": [
    "### 데이터 로드"
   ]
  },
  {
   "cell_type": "code",
   "execution_count": 4,
   "id": "bcc106e3",
   "metadata": {},
   "outputs": [],
   "source": [
    "df=pd.read_csv('mv.csv',header=None)"
   ]
  },
  {
   "cell_type": "code",
   "execution_count": 5,
   "id": "5737b94e",
   "metadata": {},
   "outputs": [
    {
     "data": {
      "text/html": [
       "<div>\n",
       "<style scoped>\n",
       "    .dataframe tbody tr th:only-of-type {\n",
       "        vertical-align: middle;\n",
       "    }\n",
       "\n",
       "    .dataframe tbody tr th {\n",
       "        vertical-align: top;\n",
       "    }\n",
       "\n",
       "    .dataframe thead th {\n",
       "        text-align: right;\n",
       "    }\n",
       "</style>\n",
       "<table border=\"1\" class=\"dataframe\">\n",
       "  <thead>\n",
       "    <tr style=\"text-align: right;\">\n",
       "      <th></th>\n",
       "      <th>0</th>\n",
       "      <th>1</th>\n",
       "    </tr>\n",
       "  </thead>\n",
       "  <tbody>\n",
       "    <tr>\n",
       "      <th>0</th>\n",
       "      <td>와일드 로즈</td>\n",
       "      <td>('고만고만한 음악 영화가 아니다. 뮤지션의 꿈을 가진 주인공이 역경을 딛고 일어서...</td>\n",
       "    </tr>\n",
       "    <tr>\n",
       "      <th>1</th>\n",
       "      <td>해치지않아</td>\n",
       "      <td>('자연과 인간의 공존, 무분별한 개발에 대한 경고, 비정규직과 고용 불안 문제 등...</td>\n",
       "    </tr>\n",
       "    <tr>\n",
       "      <th>2</th>\n",
       "      <td>임파서블 러브</td>\n",
       "      <td>('전반부가 사랑 이야기라면, 후반부는 그 사랑이 할퀴고 간 쓰린 고통과 마주한 모...</td>\n",
       "    </tr>\n",
       "    <tr>\n",
       "      <th>3</th>\n",
       "      <td>어린 의뢰인</td>\n",
       "      <td>('영화의 메시지는 강하게 와닿는다. 서두에 ‘제노비스 살인 사건’을 언급하며 목격...</td>\n",
       "    </tr>\n",
       "    <tr>\n",
       "      <th>4</th>\n",
       "      <td>기방도령</td>\n",
       "      <td>('소재만 솔깃하다. 소재를 발전시켜 나가는 아이디어는 조악하고, 갈등을 짜나가는 ...</td>\n",
       "    </tr>\n",
       "  </tbody>\n",
       "</table>\n",
       "</div>"
      ],
      "text/plain": [
       "         0                                                  1\n",
       "0   와일드 로즈  ('고만고만한 음악 영화가 아니다. 뮤지션의 꿈을 가진 주인공이 역경을 딛고 일어서...\n",
       "1    해치지않아  ('자연과 인간의 공존, 무분별한 개발에 대한 경고, 비정규직과 고용 불안 문제 등...\n",
       "2  임파서블 러브  ('전반부가 사랑 이야기라면, 후반부는 그 사랑이 할퀴고 간 쓰린 고통과 마주한 모...\n",
       "3   어린 의뢰인  ('영화의 메시지는 강하게 와닿는다. 서두에 ‘제노비스 살인 사건’을 언급하며 목격...\n",
       "4     기방도령  ('소재만 솔깃하다. 소재를 발전시켜 나가는 아이디어는 조악하고, 갈등을 짜나가는 ..."
      ]
     },
     "execution_count": 5,
     "metadata": {},
     "output_type": "execute_result"
    }
   ],
   "source": [
    "df.head()"
   ]
  },
  {
   "cell_type": "markdown",
   "id": "e39b668c",
   "metadata": {},
   "source": [
    "크롤링한 데이터를 불러온다."
   ]
  },
  {
   "cell_type": "markdown",
   "id": "92622a82",
   "metadata": {},
   "source": [
    "### 전처리"
   ]
  },
  {
   "cell_type": "code",
   "execution_count": 6,
   "id": "da77e265",
   "metadata": {},
   "outputs": [],
   "source": [
    "def export_noun(df):\n",
    "    for i in range(len(df)):\n",
    "        try:\n",
    "            df.iloc[i][1]=os.path.join(*okt.nouns(df.iloc[i][1])).replace(\"/\",\" \")\n",
    "        except:\n",
    "            pass\n",
    "\n",
    "export_noun(df)"
   ]
  },
  {
   "cell_type": "code",
   "execution_count": 7,
   "id": "68ee5890",
   "metadata": {},
   "outputs": [
    {
     "data": {
      "text/html": [
       "<div>\n",
       "<style scoped>\n",
       "    .dataframe tbody tr th:only-of-type {\n",
       "        vertical-align: middle;\n",
       "    }\n",
       "\n",
       "    .dataframe tbody tr th {\n",
       "        vertical-align: top;\n",
       "    }\n",
       "\n",
       "    .dataframe thead th {\n",
       "        text-align: right;\n",
       "    }\n",
       "</style>\n",
       "<table border=\"1\" class=\"dataframe\">\n",
       "  <thead>\n",
       "    <tr style=\"text-align: right;\">\n",
       "      <th></th>\n",
       "      <th>0</th>\n",
       "      <th>1</th>\n",
       "    </tr>\n",
       "  </thead>\n",
       "  <tbody>\n",
       "    <tr>\n",
       "      <th>0</th>\n",
       "      <td>와일드 로즈</td>\n",
       "      <td>음악 영화 뮤지션 꿈 주인공 역경 스타 탄생 영화 자신 목소리 이야기 스코틀랜드 글...</td>\n",
       "    </tr>\n",
       "    <tr>\n",
       "      <th>1</th>\n",
       "      <td>해치지않아</td>\n",
       "      <td>자연 인간 공존 무분별 개발 대한 경고 비정규직 고용 불안 문제 등 사회 주제 소재...</td>\n",
       "    </tr>\n",
       "    <tr>\n",
       "      <th>2</th>\n",
       "      <td>임파서블 러브</td>\n",
       "      <td>전반 부가 사랑 이야기 라면 후반 그 사랑 간 고통 마주 모녀 이야기 때 사랑 영화...</td>\n",
       "    </tr>\n",
       "    <tr>\n",
       "      <th>3</th>\n",
       "      <td>어린 의뢰인</td>\n",
       "      <td>영화 메시지 서두 노비 스 살인 사건 언급 목격자 유 무죄 영화 아동학대 또한 다수...</td>\n",
       "    </tr>\n",
       "    <tr>\n",
       "      <th>4</th>\n",
       "      <td>기방도령</td>\n",
       "      <td>소재 소재 발전 아이디어 갈등 방식 병맛 승부 것 급 코미디 로 즐 기기 로맨스 전...</td>\n",
       "    </tr>\n",
       "  </tbody>\n",
       "</table>\n",
       "</div>"
      ],
      "text/plain": [
       "         0                                                  1\n",
       "0   와일드 로즈  음악 영화 뮤지션 꿈 주인공 역경 스타 탄생 영화 자신 목소리 이야기 스코틀랜드 글...\n",
       "1    해치지않아  자연 인간 공존 무분별 개발 대한 경고 비정규직 고용 불안 문제 등 사회 주제 소재...\n",
       "2  임파서블 러브  전반 부가 사랑 이야기 라면 후반 그 사랑 간 고통 마주 모녀 이야기 때 사랑 영화...\n",
       "3   어린 의뢰인  영화 메시지 서두 노비 스 살인 사건 언급 목격자 유 무죄 영화 아동학대 또한 다수...\n",
       "4     기방도령  소재 소재 발전 아이디어 갈등 방식 병맛 승부 것 급 코미디 로 즐 기기 로맨스 전..."
      ]
     },
     "execution_count": 7,
     "metadata": {},
     "output_type": "execute_result"
    }
   ],
   "source": [
    "df.head()"
   ]
  },
  {
   "cell_type": "markdown",
   "id": "acf3d4d7",
   "metadata": {},
   "source": [
    "형태소가 명사인 단어만 추출하여 전처리를 해주었다.\n",
    "\n",
    "형태소 분석기는 Open Korean Text를 사용하였다."
   ]
  },
  {
   "cell_type": "code",
   "execution_count": 8,
   "id": "b9e4bcfe",
   "metadata": {
    "scrolled": true
   },
   "outputs": [],
   "source": [
    "model = TfidfVectorizer()\n",
    "train_model=model.fit_transform(df[1])"
   ]
  },
  {
   "cell_type": "markdown",
   "id": "3431c9a1",
   "metadata": {},
   "source": [
    "문장 내에서의 단어의 빈도수와 전체 텍스트에서 단어의 빈도수를 고려하는 TfidfVectorizer를 사용하여 영화의 특징을 담고 있는 단어에 가중치를 부여한다."
   ]
  },
  {
   "cell_type": "markdown",
   "id": "a5e54880",
   "metadata": {},
   "source": [
    "### 영화 추천"
   ]
  },
  {
   "cell_type": "code",
   "execution_count": 9,
   "id": "aab7ff09",
   "metadata": {},
   "outputs": [],
   "source": [
    "def get_output(a):\n",
    "    li=okt.nouns(a)                              #사용자로부터 입력받은 텍스트를 전처리\n",
    "    a=[os.path.join(*li).replace(\"/\",\" \")]\n",
    "    a=model.transform(a)                         #위에서 훈련한 모델로 임베딩\n",
    "    sim1 = cosine_similarity(train_model,a)      #입력받은 텍스트와 위에서 수치화한 영화 리뷰간의 코사인 유사도 계산\n",
    "    if len(li)>2:                                #입력된 텍스트의 단어 개수가 3개 이상일 경우,     \n",
    "        mv=df.iloc[np.where(sim1==max(sim1))][0] #코사인 유사도가 가장 높은 영화 추천\n",
    "        mv=str(mv).split('\\n')[0][5:].strip()\n",
    "    else :                                        \n",
    "        mv=df.iloc[random.choice(np.where(sim1>max(sim1)-0.15)[0])][0]\n",
    "    return mv"
   ]
  },
  {
   "cell_type": "markdown",
   "id": "eb8bbdb5",
   "metadata": {},
   "source": [
    "코사인 유사도를 이용하여 사용자로 입력받은 문장과 비교하여 유사도가 가장 높은 영화를 추천한다.\n",
    "\n",
    "다만, 사용한 입력한 텍스트가 문장이 아닌 단순 키워드(ex. '공포' 와 같이 영화 장르나 '사랑'과 같은 포괄적인 주제)일 경우 코사인 유사도가 가장 높은 영화 하나만을 추천하는 것 보다는 관련된 영화를 다양하게 추천하는 것이 낫다고 생각하여 가장 높은 코사인 유사도에서 0.15를 뺀 값 이상의 유사도를 가진 영화를 랜덤하게 추천하는 방식으로 하였다."
   ]
  },
  {
   "cell_type": "code",
   "execution_count": 10,
   "id": "e3901fb8",
   "metadata": {},
   "outputs": [
    {
     "data": {
      "text/plain": [
       "'1942: 언노운 배틀'"
      ]
     },
     "execution_count": 10,
     "metadata": {},
     "output_type": "execute_result"
    }
   ],
   "source": [
    "a='전투가 치열한 전쟁 영화'\n",
    "get_output(a)"
   ]
  },
  {
   "cell_type": "code",
   "execution_count": 11,
   "id": "a217d0a0",
   "metadata": {},
   "outputs": [
    {
     "name": "stdout",
     "output_type": "stream",
     "text": [
      "1942: 언노운 배틀\n",
      "전장의 피아니스트\n",
      "1942: 언노운 배틀\n",
      "폴란드로 간 아이들\n",
      "폴란드로 간 아이들\n"
     ]
    }
   ],
   "source": [
    "for i in range(5):\n",
    "    print(get_output('전쟁'))"
   ]
  },
  {
   "cell_type": "markdown",
   "id": "df32031f",
   "metadata": {},
   "source": [
    "'전쟁'이라는 키워드만 입력했을 경우 시행할 때 마다 다른 영화가 추천되는 것을 볼 수 있다."
   ]
  },
  {
   "cell_type": "markdown",
   "id": "4ee1029f",
   "metadata": {},
   "source": [
    "### 챗봇에 연결"
   ]
  },
  {
   "cell_type": "code",
   "execution_count": null,
   "id": "bca8975f",
   "metadata": {},
   "outputs": [
    {
     "name": "stdout",
     "output_type": "stream",
     "text": [
      "{'message_id': 283, 'from': {'id': 5506263738, 'is_bot': False, 'first_name': 'Ys', 'last_name': 'Park', 'language_code': 'ko'}, 'chat': {'id': 5506263738, 'first_name': 'Ys', 'last_name': 'Park', 'type': 'private'}, 'date': 1670338054, 'text': '/start', 'entities': [{'offset': 0, 'length': 6, 'type': 'bot_command'}]}\n",
      "{'message_id': 285, 'from': {'id': 5506263738, 'is_bot': False, 'first_name': 'Ys', 'last_name': 'Park', 'language_code': 'ko'}, 'chat': {'id': 5506263738, 'first_name': 'Ys', 'last_name': 'Park', 'type': 'private'}, 'date': 1670338087, 'text': '스포츠 영화 추천해줘'}\n",
      "{'message_id': 287, 'from': {'id': 5506263738, 'is_bot': False, 'first_name': 'Ys', 'last_name': 'Park', 'language_code': 'ko'}, 'chat': {'id': 5506263738, 'first_name': 'Ys', 'last_name': 'Park', 'type': 'private'}, 'date': 1670338105, 'text': '이별도 하고 다시 만나는 절절한 사랑 이야기'}\n",
      "{'message_id': 289, 'from': {'id': 5506263738, 'is_bot': False, 'first_name': 'Ys', 'last_name': 'Park', 'language_code': 'ko'}, 'chat': {'id': 5506263738, 'first_name': 'Ys', 'last_name': 'Park', 'type': 'private'}, 'date': 1670338119, 'text': '청춘을 아름답게 묘사한 영화'}\n",
      "{'message_id': 291, 'from': {'id': 5506263738, 'is_bot': False, 'first_name': 'Ys', 'last_name': 'Park', 'language_code': 'ko'}, 'chat': {'id': 5506263738, 'first_name': 'Ys', 'last_name': 'Park', 'type': 'private'}, 'date': 1670338122, 'text': '뮤지컬'}\n"
     ]
    },
    {
     "name": "stderr",
     "output_type": "stream",
     "text": [
      "Traceback (most recent call last):\n",
      "  File \"/opt/anaconda3/lib/python3.9/site-packages/telepot/loop.py\", line 36, in run_forever\n",
      "    msg = self._inqueue.get(block=True)\n",
      "  File \"/opt/anaconda3/lib/python3.9/queue.py\", line 171, in get\n",
      "    self.not_empty.wait()\n",
      "  File \"/opt/anaconda3/lib/python3.9/threading.py\", line 312, in wait\n",
      "    waiter.acquire()\n",
      "KeyboardInterrupt\n"
     ]
    }
   ],
   "source": [
    "def handle(msg):\n",
    "    content_type, chat_type, chat_id, msg_date, msg_id=telepot.glance(msg, long=True)\n",
    "    \n",
    "    first_msg = '안녕하세요! 저는 여러분의 영화 추천 챗봇 \"무비 메이트\"예요.\\n 보고싶은 영화의 내용을 적어주면 영화를 추천할게요.'\n",
    "    output_msg = '이 영화를 추천할게요.\\n\\n'\n",
    "    \n",
    "    if content_type !='text':\n",
    "        bot.sendMessage('제가 이해할 수 없는 말이에요.')\n",
    "    print(msg)\n",
    "    \n",
    "    if msg['text']=='/start':\n",
    "        bot.sendMessage(chat_id, first_msg)\n",
    "    else:\n",
    "        mv=get_output(msg['text'])\n",
    "        bot.sendMessage(chat_id, output_msg+'<'+str(mv)+'>')\n",
    "        \n",
    "        \n",
    "bot=telepot.Bot(bot_number)\n",
    "MessageLoop(bot, handle).run_forever()"
   ]
  },
  {
   "cell_type": "code",
   "execution_count": null,
   "id": "f1ac3aa5",
   "metadata": {},
   "outputs": [],
   "source": [
    "# id="
   ]
  }
 ],
 "metadata": {
  "kernelspec": {
   "display_name": "Python 3 (ipykernel)",
   "language": "python",
   "name": "python3"
  },
  "language_info": {
   "codemirror_mode": {
    "name": "ipython",
    "version": 3
   },
   "file_extension": ".py",
   "mimetype": "text/x-python",
   "name": "python",
   "nbconvert_exporter": "python",
   "pygments_lexer": "ipython3",
   "version": "3.9.7"
  }
 },
 "nbformat": 4,
 "nbformat_minor": 5
}
